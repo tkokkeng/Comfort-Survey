{
 "cells": [
  {
   "cell_type": "code",
   "execution_count": 1,
   "metadata": {
    "collapsed": true
   },
   "outputs": [],
   "source": [
    "%matplotlib inline\n",
    "import matplotlib.pyplot as plt\n",
    "import pandas as pd\n",
    "import os\n",
    "import re\n",
    "import numpy as np"
   ]
  },
  {
   "cell_type": "code",
   "execution_count": 2,
   "metadata": {},
   "outputs": [
    {
     "data": {
      "text/plain": [
       "'/home/tkokkeng/Documents/comfort-study'"
      ]
     },
     "execution_count": 2,
     "metadata": {},
     "output_type": "execute_result"
    }
   ],
   "source": [
    "os.chdir(os.path.join(os.path.sep, 'home', 'tkokkeng', 'Documents', 'comfort-study'))\n",
    "os.getcwd()"
   ]
  },
  {
   "cell_type": "code",
   "execution_count": 3,
   "metadata": {},
   "outputs": [
    {
     "data": {
      "text/plain": [
       "['/home/tkokkeng/Documents/comfort-study',\n '/home/tkokkeng/Documents/comfort-study/source',\n '/home/tkokkeng/python/python367/comfort-study-venv/lib/python36.zip',\n '/home/tkokkeng/python/python367/comfort-study-venv/lib/python3.6',\n '/home/tkokkeng/python/python367/comfort-study-venv/lib/python3.6/lib-dynload',\n '/usr/lib/python3.6',\n '',\n '/home/tkokkeng/python/python367/comfort-study-venv/lib/python3.6/site-packages',\n '/home/tkokkeng/.local/lib/python3.6/site-packages',\n '/usr/local/lib/python3.6/dist-packages',\n '/usr/lib/python3/dist-packages',\n '/home/tkokkeng/.local/lib/python3.6/site-packages/IPython/extensions',\n '/home/tkokkeng/.ipython']"
      ]
     },
     "execution_count": 3,
     "metadata": {},
     "output_type": "execute_result"
    }
   ],
   "source": [
    "import sys\n",
    "if os.path.join(os.getcwd(), 'source') not in sys.path:\n",
    "    sys.path.append(os.path.join(os.getcwd(), 'source'))\n",
    "sys.path"
   ]
  },
  {
   "cell_type": "code",
   "execution_count": 4,
   "metadata": {},
   "outputs": [],
   "source": [
    "# all_data = pd.read_excel(io=os.path.join('data', 'data.xlsx'), sheet_name=list(range(1, 11)), header=None)\n",
    "all_data = pd.read_excel(io=os.path.join('data', 'data_cleaned.xlsx'), sheet_name=None, header=None)"
   ]
  },
  {
   "cell_type": "code",
   "execution_count": 5,
   "metadata": {},
   "outputs": [
    {
     "data": {
      "text/plain": [
       "collections.OrderedDict"
      ]
     },
     "execution_count": 5,
     "metadata": {},
     "output_type": "execute_result"
    }
   ],
   "source": [
    "type(all_data)"
   ]
  },
  {
   "cell_type": "code",
   "execution_count": 6,
   "metadata": {},
   "outputs": [
    {
     "data": {
      "text/plain": [
       "odict_keys(['第 1 张表单回复', 'Lower zone', 'lower + a', 'lower + b', 'lower+c', 'lower + d', 'upper zone', 'upper +a', 'upper+b', 'upper+c', 'upper + d'])"
      ]
     },
     "execution_count": 6,
     "metadata": {},
     "output_type": "execute_result"
    }
   ],
   "source": [
    "all_data.keys()"
   ]
  },
  {
   "cell_type": "code",
   "execution_count": 7,
   "metadata": {},
   "outputs": [
    {
     "name": "stdout",
     "output_type": "stream",
     "text": [
      "<class 'pandas.core.frame.DataFrame'>\nRangeIndex: 78 entries, 0 to 77\nData columns (total 20 columns):\n0     78 non-null datetime64[ns]\n1     78 non-null object\n2     78 non-null object\n3     78 non-null object\n4     77 non-null object\n5     78 non-null object\n6     78 non-null object\n7     78 non-null object\n8     78 non-null object\n9     78 non-null object\n10    78 non-null object\n11    77 non-null object\n12    78 non-null object\n13    78 non-null object\n14    78 non-null object\n15    78 non-null object\n16    77 non-null object\n17    78 non-null object\n18    78 non-null object\n19    78 non-null object\ndtypes: datetime64[ns](1), object(19)\nmemory usage: 12.3+ KB\n"
     ]
    }
   ],
   "source": [
    "all_data['Lower zone'].info()"
   ]
  },
  {
   "cell_type": "code",
   "execution_count": 8,
   "metadata": {},
   "outputs": [
    {
     "data": {
      "text/plain": [
       "0                                                  时间戳记\n1                         Which Zone are you sitting in\n2                                  What is your gender?\n3                          What is your clothing like? \n4     Do you feel you have adequate rest/sleep the p...\n5           Indoor environment perception [Temperature]\n6                                      ` [Air movement]\n7                                       ` [Air Quality]\n8       Indoor Environmental Satisfaction [Temperature]\n9      Indoor Environmental Satisfaction [Air movement]\n10      Indoor Environmental Satisfaction [Air quality]\n11          Indoor Environmental Satisfaction [Overall]\n12    How much do you experience the following [Head...\n13    How much do you experience the following [Diff...\n14    How much do you experience the following [Dry ...\n15    How much do you experience the following [Slee...\n16    How much do you experience the following [Eye ...\n17    How much do you experience the following [Thro...\n18    How much do you experience the following [Runn...\n19    How much do you experience the following [Snee...\nName: 0, dtype: object"
      ]
     },
     "execution_count": 8,
     "metadata": {},
     "output_type": "execute_result"
    }
   ],
   "source": [
    "all_data['第 1 张表单回复'].iloc[0, :]"
   ]
  },
  {
   "cell_type": "code",
   "execution_count": 9,
   "metadata": {},
   "outputs": [
    {
     "data": {
      "text/plain": [
       "['Indoor environment perception [Temperature]',\n '` [Air movement]',\n '` [Air Quality]',\n 'Indoor Environmental Satisfaction [Temperature]',\n 'Indoor Environmental Satisfaction [Air movement]',\n 'Indoor Environmental Satisfaction [Air quality]',\n 'Indoor Environmental Satisfaction [Overall]',\n 'How much do you experience the following [Headaches]',\n 'How much do you experience the following [Difficulty in concentration]',\n 'How much do you experience the following [Dry skin]',\n 'How much do you experience the following [Sleepiness]',\n 'How much do you experience the following [Eye irritation]',\n 'How much do you experience the following [Throat irritation]',\n 'How much do you experience the following [Running nose]',\n 'How much do you experience the following [Sneezing/Coughing]']"
      ]
     },
     "execution_count": 9,
     "metadata": {},
     "output_type": "execute_result"
    }
   ],
   "source": [
    "survey_titles = all_data['第 1 张表单回复'].iloc[0, 5:].tolist()\n",
    "survey_titles"
   ]
  },
  {
   "cell_type": "code",
   "execution_count": 10,
   "metadata": {},
   "outputs": [
    {
     "data": {
      "text/plain": [
       "15"
      ]
     },
     "execution_count": 10,
     "metadata": {},
     "output_type": "execute_result"
    }
   ],
   "source": [
    "len(survey_titles)"
   ]
  },
  {
   "cell_type": "code",
   "execution_count": 11,
   "metadata": {},
   "outputs": [
    {
     "data": {
      "text/plain": [
       "['Indoor environment perception [Temperature]',\n '[Air movement]',\n '[Air Quality]',\n 'Indoor Environmental Satisfaction [Temperature]',\n 'Indoor Environmental Satisfaction [Air movement]',\n 'Indoor Environmental Satisfaction [Air quality]',\n 'Indoor Environmental Satisfaction [Overall]',\n 'How much do you experience the following [Headaches]',\n 'How much do you experience the following [Difficulty in concentration]',\n 'How much do you experience the following [Dry skin]',\n 'How much do you experience the following [Sleepiness]',\n 'How much do you experience the following [Eye irritation]',\n 'How much do you experience the following [Throat irritation]',\n 'How much do you experience the following [Running nose]',\n 'How much do you experience the following [SneezingCoughing]']"
      ]
     },
     "execution_count": 11,
     "metadata": {},
     "output_type": "execute_result"
    }
   ],
   "source": [
    "survey_titles = list(map(lambda x: re.sub(r'[`/]', '', x), survey_titles))\n",
    "survey_titles = list(map(lambda x: re.sub(r'^ +', '', x), survey_titles))\n",
    "survey_titles"
   ]
  },
  {
   "cell_type": "code",
   "execution_count": 12,
   "metadata": {},
   "outputs": [
    {
     "data": {
      "text/plain": [
       "['第 1 张表单回复',\n 'Lower zone',\n 'lower + a',\n 'lower + b',\n 'lower+c',\n 'lower + d',\n 'upper zone',\n 'upper +a',\n 'upper+b',\n 'upper+c',\n 'upper + d']"
      ]
     },
     "execution_count": 12,
     "metadata": {},
     "output_type": "execute_result"
    }
   ],
   "source": [
    "zones = list(all_data.keys())\n",
    "zones"
   ]
  },
  {
   "cell_type": "code",
   "execution_count": 13,
   "metadata": {},
   "outputs": [
    {
     "data": {
      "text/plain": [
       "['Lower zone',\n 'lower + a',\n 'lower + b',\n 'lower+c',\n 'lower + d',\n 'upper zone',\n 'upper +a',\n 'upper+b',\n 'upper+c',\n 'upper + d']"
      ]
     },
     "execution_count": 13,
     "metadata": {},
     "output_type": "execute_result"
    }
   ],
   "source": [
    "del zones[0]\n",
    "zones"
   ]
  },
  {
   "cell_type": "code",
   "execution_count": 14,
   "metadata": {},
   "outputs": [
    {
     "data": {
      "text/plain": [
       "'Lower zone'"
      ]
     },
     "execution_count": 14,
     "metadata": {},
     "output_type": "execute_result"
    }
   ],
   "source": [
    "zones[0]"
   ]
  },
  {
   "cell_type": "code",
   "execution_count": 15,
   "metadata": {},
   "outputs": [
    {
     "data": {
      "text/html": [
       "<div>\n",
       "<style scoped>\n",
       "    .dataframe tbody tr th:only-of-type {\n",
       "        vertical-align: middle;\n",
       "    }\n",
       "\n",
       "    .dataframe tbody tr th {\n",
       "        vertical-align: top;\n",
       "    }\n",
       "\n",
       "    .dataframe thead th {\n",
       "        text-align: right;\n",
       "    }\n",
       "</style>\n",
       "<table border=\"1\" class=\"dataframe\">\n",
       "  <thead>\n",
       "    <tr style=\"text-align: right;\">\n",
       "      <th></th>\n",
       "      <th>0</th>\n",
       "      <th>1</th>\n",
       "      <th>2</th>\n",
       "      <th>3</th>\n",
       "      <th>4</th>\n",
       "      <th>5</th>\n",
       "      <th>6</th>\n",
       "      <th>7</th>\n",
       "      <th>8</th>\n",
       "      <th>9</th>\n",
       "    </tr>\n",
       "  </thead>\n",
       "  <tbody>\n",
       "    <tr>\n",
       "      <th>0</th>\n",
       "      <td>2019-01-18 17:10:46.523</td>\n",
       "      <td>Zone 1</td>\n",
       "      <td>Male</td>\n",
       "      <td>A</td>\n",
       "      <td>Too little</td>\n",
       "      <td>Cold</td>\n",
       "      <td>Far too strong</td>\n",
       "      <td>Very smell/stale</td>\n",
       "      <td>Somewhat dissatisfied</td>\n",
       "      <td>Neutral</td>\n",
       "    </tr>\n",
       "    <tr>\n",
       "      <th>1</th>\n",
       "      <td>2019-01-22 13:16:09.528</td>\n",
       "      <td>Zone 2</td>\n",
       "      <td>Female</td>\n",
       "      <td>A</td>\n",
       "      <td>Just sufficient</td>\n",
       "      <td>Just comfortable</td>\n",
       "      <td>Just nice</td>\n",
       "      <td>Just acceptable</td>\n",
       "      <td>Somewhat dissatisfied</td>\n",
       "      <td>Neutral</td>\n",
       "    </tr>\n",
       "    <tr>\n",
       "      <th>2</th>\n",
       "      <td>2019-01-22 13:16:26.069</td>\n",
       "      <td>Zone 1</td>\n",
       "      <td>Female</td>\n",
       "      <td>A</td>\n",
       "      <td>Just sufficient</td>\n",
       "      <td>Just comfortable</td>\n",
       "      <td>Just nice</td>\n",
       "      <td>A little smelly/stale</td>\n",
       "      <td>Somewhat satisfied</td>\n",
       "      <td>Somewhat satisfied</td>\n",
       "    </tr>\n",
       "    <tr>\n",
       "      <th>3</th>\n",
       "      <td>2019-01-22 13:16:44.703</td>\n",
       "      <td>Zone 1</td>\n",
       "      <td>Male</td>\n",
       "      <td>A</td>\n",
       "      <td>Just sufficient</td>\n",
       "      <td>A little warm</td>\n",
       "      <td>A little weak</td>\n",
       "      <td>A little smelly/stale</td>\n",
       "      <td>Somewhat dissatisfied</td>\n",
       "      <td>Somewhat dissatisfied</td>\n",
       "    </tr>\n",
       "    <tr>\n",
       "      <th>4</th>\n",
       "      <td>2019-01-22 13:16:55.189</td>\n",
       "      <td>Zone 1</td>\n",
       "      <td>Female</td>\n",
       "      <td>A</td>\n",
       "      <td>Just sufficient</td>\n",
       "      <td>Slightly cool</td>\n",
       "      <td>Just nice</td>\n",
       "      <td>Fresh</td>\n",
       "      <td>Satisfied</td>\n",
       "      <td>Satisfied</td>\n",
       "    </tr>\n",
       "  </tbody>\n",
       "</table>\n",
       "</div>"
      ],
      "text/plain": [
       "<div>\n",
       "<style scoped>\n",
       "    .dataframe tbody tr th:only-of-type {\n",
       "        vertical-align: middle;\n",
       "    }\n",
       "\n",
       "    .dataframe tbody tr th {\n",
       "        vertical-align: top;\n",
       "    }\n",
       "\n",
       "    .dataframe thead th {\n",
       "        text-align: right;\n",
       "    }\n",
       "</style>\n",
       "<table border=\"1\" class=\"dataframe\">\n",
       "  <thead>\n",
       "    <tr style=\"text-align: right;\">\n",
       "      <th></th>\n",
       "      <th>0</th>\n",
       "      <th>1</th>\n",
       "      <th>2</th>\n",
       "      <th>3</th>\n",
       "      <th>4</th>\n",
       "      <th>5</th>\n",
       "      <th>6</th>\n",
       "      <th>7</th>\n",
       "      <th>8</th>\n",
       "      <th>9</th>\n",
       "    </tr>\n",
       "  </thead>\n",
       "  <tbody>\n",
       "    <tr>\n",
       "      <th>0</th>\n",
       "      <td>2019-01-18 17:10:46.523</td>\n",
       "      <td>Zone 1</td>\n",
       "      <td>Male</td>\n",
       "      <td>A</td>\n",
       "      <td>Too little</td>\n",
       "      <td>Cold</td>\n",
       "      <td>Far too strong</td>\n",
       "      <td>Very smell/stale</td>\n",
       "      <td>Somewhat dissatisfied</td>\n",
       "      <td>Neutral</td>\n",
       "    </tr>\n",
       "    <tr>\n",
       "      <th>1</th>\n",
       "      <td>2019-01-22 13:16:09.528</td>\n",
       "      <td>Zone 2</td>\n",
       "      <td>Female</td>\n",
       "      <td>A</td>\n",
       "      <td>Just sufficient</td>\n",
       "      <td>Just comfortable</td>\n",
       "      <td>Just nice</td>\n",
       "      <td>Just acceptable</td>\n",
       "      <td>Somewhat dissatisfied</td>\n",
       "      <td>Neutral</td>\n",
       "    </tr>\n",
       "    <tr>\n",
       "      <th>2</th>\n",
       "      <td>2019-01-22 13:16:26.069</td>\n",
       "      <td>Zone 1</td>\n",
       "      <td>Female</td>\n",
       "      <td>A</td>\n",
       "      <td>Just sufficient</td>\n",
       "      <td>Just comfortable</td>\n",
       "      <td>Just nice</td>\n",
       "      <td>A little smelly/stale</td>\n",
       "      <td>Somewhat satisfied</td>\n",
       "      <td>Somewhat satisfied</td>\n",
       "    </tr>\n",
       "    <tr>\n",
       "      <th>3</th>\n",
       "      <td>2019-01-22 13:16:44.703</td>\n",
       "      <td>Zone 1</td>\n",
       "      <td>Male</td>\n",
       "      <td>A</td>\n",
       "      <td>Just sufficient</td>\n",
       "      <td>A little warm</td>\n",
       "      <td>A little weak</td>\n",
       "      <td>A little smelly/stale</td>\n",
       "      <td>Somewhat dissatisfied</td>\n",
       "      <td>Somewhat dissatisfied</td>\n",
       "    </tr>\n",
       "    <tr>\n",
       "      <th>4</th>\n",
       "      <td>2019-01-22 13:16:55.189</td>\n",
       "      <td>Zone 1</td>\n",
       "      <td>Female</td>\n",
       "      <td>A</td>\n",
       "      <td>Just sufficient</td>\n",
       "      <td>Slightly cool</td>\n",
       "      <td>Just nice</td>\n",
       "      <td>Fresh</td>\n",
       "      <td>Satisfied</td>\n",
       "      <td>Satisfied</td>\n",
       "    </tr>\n",
       "  </tbody>\n",
       "</table>\n",
       "</div>"
      ]
     },
     "execution_count": 15,
     "metadata": {},
     "output_type": "execute_result"
    }
   ],
   "source": [
    "all_data[zones[0]].iloc[:5, :10]"
   ]
  },
  {
   "cell_type": "code",
   "execution_count": 16,
   "metadata": {},
   "outputs": [
    {
     "data": {
      "text/plain": [
       "0                 Cold\n1     Just comfortable\n2     Just comfortable\n3        A little warm\n4        Slightly cool\n5     Just comfortable\n6     Just comfortable\n7     Just comfortable\n8        A little warm\n9     Just comfortable\n10    Just comfortable\n11       A little warm\n12    Just comfortable\n13       A little warm\n14       A little warm\n15    Just comfortable\n16       A little warm\n17       A little warm\n18       A little warm\n19                Warm\n20       A little warm\n21       A little warm\n22    Just comfortable\n23                Warm\n24       Slightly cool\n25                Cool\n26       Slightly cool\n27       A little warm\n28       A little warm\n29                Warm\n            ...       \n48    Just comfortable\n49    Just comfortable\n50       Slightly cool\n51       A little warm\n52                Warm\n53    Just comfortable\n54                Warm\n55       A little warm\n56    Just comfortable\n57    Just comfortable\n58    Just comfortable\n59       A little warm\n60    Just comfortable\n61    Just comfortable\n62       A little warm\n63                Warm\n64       A little warm\n65       A little warm\n66       A little warm\n67       A little warm\n68                Warm\n69       A little warm\n70    Just comfortable\n71       A little warm\n72       A little warm\n73       A little warm\n74    Just comfortable\n75       A little warm\n76    Just comfortable\n77       A little warm\nName: 5, Length: 78, dtype: object"
      ]
     },
     "execution_count": 16,
     "metadata": {},
     "output_type": "execute_result"
    }
   ],
   "source": [
    "all_data[zones[0]].iloc[:, 5]"
   ]
  },
  {
   "cell_type": "code",
   "execution_count": 17,
   "metadata": {},
   "outputs": [
    {
     "data": {
      "text/plain": [
       "A little warm       34\nCold                 1\nCool                 1\nHot                  1\nJust comfortable    24\nSlightly cool        7\nWarm                10\nName: 5, dtype: int64"
      ]
     },
     "execution_count": 17,
     "metadata": {},
     "output_type": "execute_result"
    }
   ],
   "source": [
    "all_data[zones[0]].iloc[:, 5].value_counts().sort_index()"
   ]
  },
  {
   "cell_type": "code",
   "execution_count": 18,
   "metadata": {},
   "outputs": [
    {
     "data": {
      "text/plain": [
       "['A little warm',\n 'Cold',\n 'Cool',\n 'Hot',\n 'Just comfortable',\n 'Slightly cool',\n 'Warm']"
      ]
     },
     "execution_count": 18,
     "metadata": {},
     "output_type": "execute_result"
    }
   ],
   "source": [
    "all_data[zones[0]].iloc[:, 5].value_counts().sort_index().index.tolist()"
   ]
  },
  {
   "cell_type": "code",
   "execution_count": 19,
   "metadata": {},
   "outputs": [
    {
     "data": {
      "text/plain": [
       "78"
      ]
     },
     "execution_count": 19,
     "metadata": {},
     "output_type": "execute_result"
    }
   ],
   "source": [
    "all_data[zones[0]].iloc[:, 5].value_counts().sum()"
   ]
  },
  {
   "cell_type": "markdown",
   "metadata": {},
   "source": [
    "Matplotlib assigns colors consecutively from a colormap to each label in sequence; to get the same color mapping to each class across plots, the classes must be arranged in the same order. Classes which do not appear in a dataset needs to be added into count data with count zero to preserve the color mapping."
   ]
  },
  {
   "cell_type": "code",
   "execution_count": 20,
   "metadata": {},
   "outputs": [
    {
     "data": {
      "text/plain": [
       "([<matplotlib.patches.Wedge at 0x7fb613d304e0>,\n  <matplotlib.patches.Wedge at 0x7fb613d309b0>,\n  <matplotlib.patches.Wedge at 0x7fb613d30e80>,\n  <matplotlib.patches.Wedge at 0x7fb613d43390>,\n  <matplotlib.patches.Wedge at 0x7fb613d437f0>,\n  <matplotlib.patches.Wedge at 0x7fb613d43cc0>,\n  <matplotlib.patches.Wedge at 0x7fb613d4d1d0>],\n [Text(0.22002825021671504, 1.0777697198875884, 'A little warm'),\n  Text(-1.028517876523044, 0.39006535051517766, 'Cold'),\n  Text(-1.0565699306236995, 0.3060391832785977, 'Cool'),\n  Text(-1.0777697231064214, 0.22002823444982705, 'Hot'),\n  Text(-0.7619967387479085, -0.7933227402120475, 'Just comfortable'),\n  Text(0.5111955922782591, -0.974001574144149, 'Slightly cool'),\n  Text(1.0119774463130713, -0.43116313403823764, 'Warm')])"
      ]
     },
     "execution_count": 20,
     "metadata": {},
     "output_type": "execute_result"
    },
    {
     "data": {
      "image/png": "[encoded data removed]",
      "text/plain": [
       "<Figure size 504x504 with 1 Axes>"
      ]
     },
     "metadata": {},
     "output_type": "display_data"
    }
   ],
   "source": [
    "plt.figure(figsize=(7,7))\n",
    "plt.title(zones[0].replace(' ', '') + '\\n' + survey_titles[0])\n",
    "plt.pie(all_data[zones[0]].iloc[:, 5].value_counts().sort_index(), labels=all_data[zones[0]].iloc[:, 5].value_counts().sort_index().index.tolist())"
   ]
  },
  {
   "cell_type": "code",
   "execution_count": 21,
   "metadata": {},
   "outputs": [
    {
     "data": {
      "text/plain": [
       "A little warm       24\nCold                 1\nCool                 1\nJust comfortable    19\nSlightly cool        5\nWarm                 5\nName: 5, dtype: int64"
      ]
     },
     "execution_count": 21,
     "metadata": {},
     "output_type": "execute_result"
    }
   ],
   "source": [
    "all_data[zones[1]].iloc[:, 5].value_counts().sort_index()"
   ]
  },
  {
   "cell_type": "markdown",
   "metadata": {},
   "source": [
    "'Hot' is not in the count data."
   ]
  },
  {
   "cell_type": "code",
   "execution_count": 22,
   "metadata": {},
   "outputs": [
    {
     "data": {
      "text/plain": [
       "A little warm       24\nCold                 1\nCool                 1\nHot                  0\nJust comfortable    19\nSlightly cool        5\nWarm                 5\nName: 5, dtype: int64"
      ]
     },
     "execution_count": 22,
     "metadata": {},
     "output_type": "execute_result"
    }
   ],
   "source": [
    "series = all_data[zones[1]].iloc[:, 5].value_counts()\n",
    "series['Hot'] = 0\n",
    "series.sort_index(inplace=True)\n",
    "series"
   ]
  },
  {
   "cell_type": "code",
   "execution_count": 31,
   "metadata": {},
   "outputs": [
    {
     "data": {
      "text/plain": [
       "([<matplotlib.patches.Wedge at 0x7fb613c40160>,\n  <matplotlib.patches.Wedge at 0x7fb613c40860>,\n  <matplotlib.patches.Wedge at 0x7fb613c40f60>,\n  <matplotlib.patches.Wedge at 0x7fb613c466a0>,\n  <matplotlib.patches.Wedge at 0x7fb613c46d68>,\n  <matplotlib.patches.Wedge at 0x7fb613c514a8>,\n  <matplotlib.patches.Wedge at 0x7fb613c51ba8>],\n [Text(0.2184495096398421, 1.078090817945368, 'A little warm'),\n  Text(-1.036028801851941, 0.3696543273562907, 'Cold'),\n  Text(-1.071413108981167, 0.24914644268644534, 'Cool'),\n  Text(-1.0838892193526353, 0.18757441235716366, 'Hot'),\n  Text(-0.6717126724182926, -0.8710924667982588, 'Just comfortable'),\n  Text(0.7203468055708542, -0.8313245333224963, 'Slightly cool'),\n  Text(1.0554422755920456, -0.30990579680458497, 'Warm')],\n [Text(0.11915427798536841, 0.5880495370611099, '43%'),\n  Text(-0.5651066191919678, 0.20162963310343127, '1%'),\n  Text(-0.5844071503533638, 0.135898059647152, '1%'),\n  Text(-0.5912123014650736, 0.10231331583118017, ''),\n  Text(-0.36638873040997777, -0.4751413455263229, '34%'),\n  Text(0.3929164394022841, -0.45344974544863426, '9%'),\n  Text(0.5756957866865703, -0.16903952552977358, '9%')])"
      ]
     },
     "execution_count": 31,
     "metadata": {},
     "output_type": "execute_result"
    },
    {
     "data": {
      "image/png": "[encoded data removed]",
      "text/plain": [
       "<Figure size 504x504 with 1 Axes>"
      ]
     },
     "metadata": {},
     "output_type": "display_data"
    }
   ],
   "source": [
    "total_cnt = series.sum()\n",
    "plt.figure(figsize=(7,7))\n",
    "plt.title(zones[1].replace(' ', '') + '\\n' + survey_titles[0])\n",
    "# plt.pie(series, labels=series.index.tolist(), autopct='%1.1f%%')\n",
    "# plt.pie(series, labels=series.index.tolist(), autopct=lambda x: str(int(x * 100 / total_cnt)) + '%' if x > 0 else '')\n",
    "plt.pie(series, labels=series.index.tolist(), autopct=lambda x: str(int(x)) + '%' if x > 0 else '')"
   ]
  },
  {
   "cell_type": "code",
   "execution_count": 24,
   "metadata": {},
   "outputs": [
    {
     "data": {
      "text/html": [
       "<div>\n",
       "<style scoped>\n",
       "    .dataframe tbody tr th:only-of-type {\n",
       "        vertical-align: middle;\n",
       "    }\n",
       "\n",
       "    .dataframe tbody tr th {\n",
       "        vertical-align: top;\n",
       "    }\n",
       "\n",
       "    .dataframe thead th {\n",
       "        text-align: right;\n",
       "    }\n",
       "</style>\n",
       "<table border=\"1\" class=\"dataframe\">\n",
       "  <thead>\n",
       "    <tr style=\"text-align: right;\">\n",
       "      <th></th>\n",
       "      <th>5</th>\n",
       "      <th>6</th>\n",
       "      <th>7</th>\n",
       "      <th>8</th>\n",
       "      <th>9</th>\n",
       "    </tr>\n",
       "  </thead>\n",
       "  <tbody>\n",
       "    <tr>\n",
       "      <th>0</th>\n",
       "      <td>Indoor environment perception [Temperature]</td>\n",
       "      <td>` [Air movement]</td>\n",
       "      <td>` [Air Quality]</td>\n",
       "      <td>Indoor Environmental Satisfaction [Temperature]</td>\n",
       "      <td>Indoor Environmental Satisfaction [Air movement]</td>\n",
       "    </tr>\n",
       "    <tr>\n",
       "      <th>1</th>\n",
       "      <td>4</td>\n",
       "      <td>2</td>\n",
       "      <td>3</td>\n",
       "      <td>NaN</td>\n",
       "      <td>NaN</td>\n",
       "    </tr>\n",
       "    <tr>\n",
       "      <th>2</th>\n",
       "      <td>Cold</td>\n",
       "      <td>Far too strong</td>\n",
       "      <td>Very smell/stale</td>\n",
       "      <td>Somewhat dissatisfied</td>\n",
       "      <td>Neutral</td>\n",
       "    </tr>\n",
       "  </tbody>\n",
       "</table>\n",
       "</div>"
      ],
      "text/plain": [
       "<div>\n",
       "<style scoped>\n",
       "    .dataframe tbody tr th:only-of-type {\n",
       "        vertical-align: middle;\n",
       "    }\n",
       "\n",
       "    .dataframe tbody tr th {\n",
       "        vertical-align: top;\n",
       "    }\n",
       "\n",
       "    .dataframe thead th {\n",
       "        text-align: right;\n",
       "    }\n",
       "</style>\n",
       "<table border=\"1\" class=\"dataframe\">\n",
       "  <thead>\n",
       "    <tr style=\"text-align: right;\">\n",
       "      <th></th>\n",
       "      <th>5</th>\n",
       "      <th>6</th>\n",
       "      <th>7</th>\n",
       "      <th>8</th>\n",
       "      <th>9</th>\n",
       "    </tr>\n",
       "  </thead>\n",
       "  <tbody>\n",
       "    <tr>\n",
       "      <th>0</th>\n",
       "      <td>Indoor environment perception [Temperature]</td>\n",
       "      <td>` [Air movement]</td>\n",
       "      <td>` [Air Quality]</td>\n",
       "      <td>Indoor Environmental Satisfaction [Temperature]</td>\n",
       "      <td>Indoor Environmental Satisfaction [Air movement]</td>\n",
       "    </tr>\n",
       "    <tr>\n",
       "      <th>1</th>\n",
       "      <td>4</td>\n",
       "      <td>2</td>\n",
       "      <td>3</td>\n",
       "      <td>NaN</td>\n",
       "      <td>NaN</td>\n",
       "    </tr>\n",
       "    <tr>\n",
       "      <th>2</th>\n",
       "      <td>Cold</td>\n",
       "      <td>Far too strong</td>\n",
       "      <td>Very smell/stale</td>\n",
       "      <td>Somewhat dissatisfied</td>\n",
       "      <td>Neutral</td>\n",
       "    </tr>\n",
       "  </tbody>\n",
       "</table>\n",
       "</div>"
      ]
     },
     "execution_count": 24,
     "metadata": {},
     "output_type": "execute_result"
    }
   ],
   "source": [
    "all_data['第 1 张表单回复'].iloc[:3, 5:10]"
   ]
  },
  {
   "cell_type": "code",
   "execution_count": 25,
   "metadata": {},
   "outputs": [
    {
     "data": {
      "text/plain": [
       "138"
      ]
     },
     "execution_count": 25,
     "metadata": {},
     "output_type": "execute_result"
    }
   ],
   "source": [
    "len(all_data['第 1 张表单回复'].iloc[2:, :])"
   ]
  },
  {
   "cell_type": "markdown",
   "metadata": {},
   "source": [
    "## Check data"
   ]
  },
  {
   "cell_type": "code",
   "execution_count": 26,
   "metadata": {},
   "outputs": [
    {
     "name": "stdout",
     "output_type": "stream",
     "text": [
      "0 True\n1 True\n2 True\n3 True\n4 True\n5 True\n6 False\n7 True\n8 True\n9 True\n10 True\n11 False\n12 True\n13 True\n14 True\n"
     ]
    }
   ],
   "source": [
    "for i in range(15):\n",
    "    print(i, (all_data['Lower zone'].iloc[:, 5+i] == all_data['upper zone'].iloc[:, 5+i]).all())"
   ]
  },
  {
   "cell_type": "code",
   "execution_count": 27,
   "metadata": {},
   "outputs": [
    {
     "data": {
      "text/plain": [
       "72    NaN\nName: 11, dtype: object"
      ]
     },
     "execution_count": 27,
     "metadata": {},
     "output_type": "execute_result"
    }
   ],
   "source": [
    "all_data['Lower zone'].loc[(all_data['Lower zone'].iloc[:, 11] != all_data['upper zone'].iloc[:, 11]), 11]"
   ]
  },
  {
   "cell_type": "code",
   "execution_count": 28,
   "metadata": {},
   "outputs": [
    {
     "data": {
      "text/plain": [
       "72    NaN\nName: 11, dtype: object"
      ]
     },
     "execution_count": 28,
     "metadata": {},
     "output_type": "execute_result"
    }
   ],
   "source": [
    "all_data['upper zone'].loc[(all_data['Lower zone'].iloc[:, 11] != all_data['upper zone'].iloc[:, 11]), 11]"
   ]
  },
  {
   "cell_type": "code",
   "execution_count": 29,
   "metadata": {},
   "outputs": [
    {
     "data": {
      "text/html": [
       "<div>\n",
       "<style scoped>\n",
       "    .dataframe tbody tr th:only-of-type {\n",
       "        vertical-align: middle;\n",
       "    }\n",
       "\n",
       "    .dataframe tbody tr th {\n",
       "        vertical-align: top;\n",
       "    }\n",
       "\n",
       "    .dataframe thead th {\n",
       "        text-align: right;\n",
       "    }\n",
       "</style>\n",
       "<table border=\"1\" class=\"dataframe\">\n",
       "  <thead>\n",
       "    <tr style=\"text-align: right;\">\n",
       "      <th></th>\n",
       "      <th>8</th>\n",
       "      <th>9</th>\n",
       "      <th>10</th>\n",
       "      <th>11</th>\n",
       "      <th>12</th>\n",
       "      <th>13</th>\n",
       "      <th>14</th>\n",
       "    </tr>\n",
       "  </thead>\n",
       "  <tbody>\n",
       "    <tr>\n",
       "      <th>70</th>\n",
       "      <td>Neutral</td>\n",
       "      <td>Neutral</td>\n",
       "      <td>Neutral</td>\n",
       "      <td>Neutral</td>\n",
       "      <td>Not at all</td>\n",
       "      <td>Moderate</td>\n",
       "      <td>A little</td>\n",
       "    </tr>\n",
       "    <tr>\n",
       "      <th>71</th>\n",
       "      <td>Somewhat dissatisfied</td>\n",
       "      <td>Very dissatisfied</td>\n",
       "      <td>Somewhat dissatisfied</td>\n",
       "      <td>Dissatisfied</td>\n",
       "      <td>A little</td>\n",
       "      <td>Intense</td>\n",
       "      <td>Not at all</td>\n",
       "    </tr>\n",
       "    <tr>\n",
       "      <th>72</th>\n",
       "      <td>Somewhat dissatisfied</td>\n",
       "      <td>Somewhat dissatisfied</td>\n",
       "      <td>Somewhat dissatisfied</td>\n",
       "      <td>NaN</td>\n",
       "      <td>Not at all</td>\n",
       "      <td>Moderate</td>\n",
       "      <td>Not at all</td>\n",
       "    </tr>\n",
       "    <tr>\n",
       "      <th>73</th>\n",
       "      <td>Somewhat dissatisfied</td>\n",
       "      <td>Neutral</td>\n",
       "      <td>Neutral</td>\n",
       "      <td>Neutral</td>\n",
       "      <td>Not at all</td>\n",
       "      <td>Not at all</td>\n",
       "      <td>Not at all</td>\n",
       "    </tr>\n",
       "    <tr>\n",
       "      <th>74</th>\n",
       "      <td>Neutral</td>\n",
       "      <td>Neutral</td>\n",
       "      <td>Neutral</td>\n",
       "      <td>Neutral</td>\n",
       "      <td>A little</td>\n",
       "      <td>Not at all</td>\n",
       "      <td>Not at all</td>\n",
       "    </tr>\n",
       "  </tbody>\n",
       "</table>\n",
       "</div>"
      ],
      "text/plain": [
       "<div>\n",
       "<style scoped>\n",
       "    .dataframe tbody tr th:only-of-type {\n",
       "        vertical-align: middle;\n",
       "    }\n",
       "\n",
       "    .dataframe tbody tr th {\n",
       "        vertical-align: top;\n",
       "    }\n",
       "\n",
       "    .dataframe thead th {\n",
       "        text-align: right;\n",
       "    }\n",
       "</style>\n",
       "<table border=\"1\" class=\"dataframe\">\n",
       "  <thead>\n",
       "    <tr style=\"text-align: right;\">\n",
       "      <th></th>\n",
       "      <th>8</th>\n",
       "      <th>9</th>\n",
       "      <th>10</th>\n",
       "      <th>11</th>\n",
       "      <th>12</th>\n",
       "      <th>13</th>\n",
       "      <th>14</th>\n",
       "    </tr>\n",
       "  </thead>\n",
       "  <tbody>\n",
       "    <tr>\n",
       "      <th>70</th>\n",
       "      <td>Neutral</td>\n",
       "      <td>Neutral</td>\n",
       "      <td>Neutral</td>\n",
       "      <td>Neutral</td>\n",
       "      <td>Not at all</td>\n",
       "      <td>Moderate</td>\n",
       "      <td>A little</td>\n",
       "    </tr>\n",
       "    <tr>\n",
       "      <th>71</th>\n",
       "      <td>Somewhat dissatisfied</td>\n",
       "      <td>Very dissatisfied</td>\n",
       "      <td>Somewhat dissatisfied</td>\n",
       "      <td>Dissatisfied</td>\n",
       "      <td>A little</td>\n",
       "      <td>Intense</td>\n",
       "      <td>Not at all</td>\n",
       "    </tr>\n",
       "    <tr>\n",
       "      <th>72</th>\n",
       "      <td>Somewhat dissatisfied</td>\n",
       "      <td>Somewhat dissatisfied</td>\n",
       "      <td>Somewhat dissatisfied</td>\n",
       "      <td>NaN</td>\n",
       "      <td>Not at all</td>\n",
       "      <td>Moderate</td>\n",
       "      <td>Not at all</td>\n",
       "    </tr>\n",
       "    <tr>\n",
       "      <th>73</th>\n",
       "      <td>Somewhat dissatisfied</td>\n",
       "      <td>Neutral</td>\n",
       "      <td>Neutral</td>\n",
       "      <td>Neutral</td>\n",
       "      <td>Not at all</td>\n",
       "      <td>Not at all</td>\n",
       "      <td>Not at all</td>\n",
       "    </tr>\n",
       "    <tr>\n",
       "      <th>74</th>\n",
       "      <td>Neutral</td>\n",
       "      <td>Neutral</td>\n",
       "      <td>Neutral</td>\n",
       "      <td>Neutral</td>\n",
       "      <td>A little</td>\n",
       "      <td>Not at all</td>\n",
       "      <td>Not at all</td>\n",
       "    </tr>\n",
       "  </tbody>\n",
       "</table>\n",
       "</div>"
      ]
     },
     "execution_count": 29,
     "metadata": {},
     "output_type": "execute_result"
    }
   ],
   "source": [
    "all_data['Lower zone'].iloc[70:75, 8:15]"
   ]
  },
  {
   "cell_type": "code",
   "execution_count": 30,
   "metadata": {},
   "outputs": [],
   "source": []
  }
 ],
 "metadata": {
  "kernelspec": {
   "display_name": "Python 2",
   "language": "python",
   "name": "python2"
  },
  "language_info": {
   "codemirror_mode": {
    "name": "ipython",
    "version": 2
   },
   "file_extension": ".py",
   "mimetype": "text/x-python",
   "name": "python",
   "nbconvert_exporter": "python",
   "pygments_lexer": "ipython2",
   "version": "2.7.6"
  }
 },
 "nbformat": 4,
 "nbformat_minor": 0
}
