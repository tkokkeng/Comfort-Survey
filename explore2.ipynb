{
 "cells": [
  {
   "cell_type": "code",
   "execution_count": 1,
   "metadata": {
    "collapsed": true
   },
   "outputs": [],
   "source": [
    "%matplotlib inline\n",
    "import matplotlib.pyplot as plt\n",
    "import pandas as pd\n",
    "import os\n",
    "import re\n",
    "import numpy as np"
   ]
  },
  {
   "cell_type": "code",
   "execution_count": 2,
   "metadata": {},
   "outputs": [
    {
     "data": {
      "text/plain": [
       "'/home/tkokkeng/Documents/comfort-study'"
      ]
     },
     "execution_count": 2,
     "metadata": {},
     "output_type": "execute_result"
    }
   ],
   "source": [
    "os.chdir(os.path.join(os.path.sep, 'home', 'tkokkeng', 'Documents', 'comfort-study'))\n",
    "os.getcwd()"
   ]
  },
  {
   "cell_type": "code",
   "execution_count": 3,
   "metadata": {},
   "outputs": [
    {
     "data": {
      "text/plain": [
       "['/home/tkokkeng/Documents/comfort-study',\n '/home/tkokkeng/Documents/comfort-study/source',\n '/home/tkokkeng/python/python367/comfort-study-venv/lib/python36.zip',\n '/home/tkokkeng/python/python367/comfort-study-venv/lib/python3.6',\n '/home/tkokkeng/python/python367/comfort-study-venv/lib/python3.6/lib-dynload',\n '/usr/lib/python3.6',\n '',\n '/home/tkokkeng/python/python367/comfort-study-venv/lib/python3.6/site-packages',\n '/home/tkokkeng/.local/lib/python3.6/site-packages',\n '/usr/local/lib/python3.6/dist-packages',\n '/usr/lib/python3/dist-packages',\n '/home/tkokkeng/.local/lib/python3.6/site-packages/IPython/extensions',\n '/home/tkokkeng/.ipython']"
      ]
     },
     "execution_count": 3,
     "metadata": {},
     "output_type": "execute_result"
    }
   ],
   "source": [
    "import sys\n",
    "if os.path.join(os.getcwd(), 'source') not in sys.path:\n",
    "    sys.path.append(os.path.join(os.getcwd(), 'source'))\n",
    "sys.path"
   ]
  },
  {
   "cell_type": "markdown",
   "metadata": {},
   "source": [
    "## Transform data"
   ]
  },
  {
   "cell_type": "code",
   "execution_count": 4,
   "metadata": {},
   "outputs": [],
   "source": [
    "all_zones_df = pd.read_excel(io=os.path.join('data', 'Comfort study at lecture theatre（raw data).xlsx'), sheet_name=0, header=0)"
   ]
  },
  {
   "cell_type": "code",
   "execution_count": 5,
   "metadata": {},
   "outputs": [
    {
     "name": "stdout",
     "output_type": "stream",
     "text": [
      "<class 'pandas.core.frame.DataFrame'>\nRangeIndex: 139 entries, 0 to 138\nData columns (total 20 columns):\n时间戳记                                                                      139 non-null datetime64[ns]\nWhich Zone are you sitting in                                             138 non-null object\nWhat is your gender?                                                      138 non-null object\nWhat is your clothing like?                                               139 non-null object\nDo you feel you have adequate rest/sleep the previous night? [`]          137 non-null object\nIndoor environment perception [Temperature]                               139 non-null object\n` [Air movement]                                                          139 non-null object\n` [Air Quality]                                                           139 non-null object\nIndoor Environmental Satisfaction [Temperature]                           138 non-null object\nIndoor Environmental Satisfaction [Air movement]                          138 non-null object\nIndoor Environmental Satisfaction [Air quality]                           138 non-null object\nIndoor Environmental Satisfaction [Overall]                               136 non-null object\nHow much do you experience the following [Headaches]                      139 non-null object\nHow much do you experience the following [Difficulty in concentration]    138 non-null object\nHow much do you experience the following [Dry skin]                       138 non-null object\nHow much do you experience the following [Sleepiness]                     138 non-null object\nHow much do you experience the following [Eye irritation]                 137 non-null object\nHow much do you experience the following [Throat irritation]              138 non-null object\nHow much do you experience the following [Running nose]                   138 non-null object\nHow much do you experience the following [Sneezing/Coughing]              138 non-null object\ndtypes: datetime64[ns](1), object(19)\nmemory usage: 21.8+ KB\n"
     ]
    }
   ],
   "source": [
    "all_zones_df.info()"
   ]
  },
  {
   "cell_type": "code",
   "execution_count": 6,
   "metadata": {},
   "outputs": [
    {
     "data": {
      "text/html": [
       "<div>\n",
       "<style scoped>\n",
       "    .dataframe tbody tr th:only-of-type {\n",
       "        vertical-align: middle;\n",
       "    }\n",
       "\n",
       "    .dataframe tbody tr th {\n",
       "        vertical-align: top;\n",
       "    }\n",
       "\n",
       "    .dataframe thead th {\n",
       "        text-align: right;\n",
       "    }\n",
       "</style>\n",
       "<table border=\"1\" class=\"dataframe\">\n",
       "  <thead>\n",
       "    <tr style=\"text-align: right;\">\n",
       "      <th></th>\n",
       "      <th>时间戳记</th>\n",
       "      <th>Which Zone are you sitting in</th>\n",
       "      <th>What is your gender?</th>\n",
       "      <th>What is your clothing like?</th>\n",
       "      <th>Do you feel you have adequate rest/sleep the previous night? [`]</th>\n",
       "      <th>Indoor environment perception [Temperature]</th>\n",
       "      <th>` [Air movement]</th>\n",
       "      <th>` [Air Quality]</th>\n",
       "      <th>Indoor Environmental Satisfaction [Temperature]</th>\n",
       "      <th>Indoor Environmental Satisfaction [Air movement]</th>\n",
       "    </tr>\n",
       "  </thead>\n",
       "  <tbody>\n",
       "    <tr>\n",
       "      <th>0</th>\n",
       "      <td>2018-10-05 17:05:46.359</td>\n",
       "      <td>NaN</td>\n",
       "      <td>Female</td>\n",
       "      <td>B</td>\n",
       "      <td>NaN</td>\n",
       "      <td>4</td>\n",
       "      <td>2</td>\n",
       "      <td>3</td>\n",
       "      <td>NaN</td>\n",
       "      <td>NaN</td>\n",
       "    </tr>\n",
       "    <tr>\n",
       "      <th>1</th>\n",
       "      <td>2019-01-18 17:10:46.523</td>\n",
       "      <td>Zone 1</td>\n",
       "      <td>Male</td>\n",
       "      <td>A</td>\n",
       "      <td>Too little</td>\n",
       "      <td>Cold</td>\n",
       "      <td>Far too strong</td>\n",
       "      <td>Very smell/stale</td>\n",
       "      <td>Somewhat dissatisfied</td>\n",
       "      <td>Neutral</td>\n",
       "    </tr>\n",
       "    <tr>\n",
       "      <th>2</th>\n",
       "      <td>2019-01-22 10:06:39.373</td>\n",
       "      <td>Zone 3</td>\n",
       "      <td>Male</td>\n",
       "      <td>B</td>\n",
       "      <td>A little under</td>\n",
       "      <td>Slightly cool</td>\n",
       "      <td>A little weak</td>\n",
       "      <td>A little fresh</td>\n",
       "      <td>Satisfied</td>\n",
       "      <td>Somewhat satisfied</td>\n",
       "    </tr>\n",
       "    <tr>\n",
       "      <th>3</th>\n",
       "      <td>2019-01-22 13:11:43.507</td>\n",
       "      <td>Zone 4</td>\n",
       "      <td>Female</td>\n",
       "      <td>A</td>\n",
       "      <td>A little under</td>\n",
       "      <td>Just comfortable</td>\n",
       "      <td>Just nice</td>\n",
       "      <td>Just acceptable</td>\n",
       "      <td>Somewhat satisfied</td>\n",
       "      <td>Neutral</td>\n",
       "    </tr>\n",
       "    <tr>\n",
       "      <th>4</th>\n",
       "      <td>2019-01-22 13:16:09.528</td>\n",
       "      <td>Zone 2</td>\n",
       "      <td>Female</td>\n",
       "      <td>A</td>\n",
       "      <td>Just sufficient</td>\n",
       "      <td>Just comfortable</td>\n",
       "      <td>Just nice</td>\n",
       "      <td>Just acceptable</td>\n",
       "      <td>Somewhat dissatisfied</td>\n",
       "      <td>Neutral</td>\n",
       "    </tr>\n",
       "  </tbody>\n",
       "</table>\n",
       "</div>"
      ],
      "text/plain": [
       "<div>\n",
       "<style scoped>\n",
       "    .dataframe tbody tr th:only-of-type {\n",
       "        vertical-align: middle;\n",
       "    }\n",
       "\n",
       "    .dataframe tbody tr th {\n",
       "        vertical-align: top;\n",
       "    }\n",
       "\n",
       "    .dataframe thead th {\n",
       "        text-align: right;\n",
       "    }\n",
       "</style>\n",
       "<table border=\"1\" class=\"dataframe\">\n",
       "  <thead>\n",
       "    <tr style=\"text-align: right;\">\n",
       "      <th></th>\n",
       "      <th>时间戳记</th>\n",
       "      <th>Which Zone are you sitting in</th>\n",
       "      <th>What is your gender?</th>\n",
       "      <th>What is your clothing like?</th>\n",
       "      <th>Do you feel you have adequate rest/sleep the previous night? [`]</th>\n",
       "      <th>Indoor environment perception [Temperature]</th>\n",
       "      <th>` [Air movement]</th>\n",
       "      <th>` [Air Quality]</th>\n",
       "      <th>Indoor Environmental Satisfaction [Temperature]</th>\n",
       "      <th>Indoor Environmental Satisfaction [Air movement]</th>\n",
       "    </tr>\n",
       "  </thead>\n",
       "  <tbody>\n",
       "    <tr>\n",
       "      <th>0</th>\n",
       "      <td>2018-10-05 17:05:46.359</td>\n",
       "      <td>NaN</td>\n",
       "      <td>Female</td>\n",
       "      <td>B</td>\n",
       "      <td>NaN</td>\n",
       "      <td>4</td>\n",
       "      <td>2</td>\n",
       "      <td>3</td>\n",
       "      <td>NaN</td>\n",
       "      <td>NaN</td>\n",
       "    </tr>\n",
       "    <tr>\n",
       "      <th>1</th>\n",
       "      <td>2019-01-18 17:10:46.523</td>\n",
       "      <td>Zone 1</td>\n",
       "      <td>Male</td>\n",
       "      <td>A</td>\n",
       "      <td>Too little</td>\n",
       "      <td>Cold</td>\n",
       "      <td>Far too strong</td>\n",
       "      <td>Very smell/stale</td>\n",
       "      <td>Somewhat dissatisfied</td>\n",
       "      <td>Neutral</td>\n",
       "    </tr>\n",
       "    <tr>\n",
       "      <th>2</th>\n",
       "      <td>2019-01-22 10:06:39.373</td>\n",
       "      <td>Zone 3</td>\n",
       "      <td>Male</td>\n",
       "      <td>B</td>\n",
       "      <td>A little under</td>\n",
       "      <td>Slightly cool</td>\n",
       "      <td>A little weak</td>\n",
       "      <td>A little fresh</td>\n",
       "      <td>Satisfied</td>\n",
       "      <td>Somewhat satisfied</td>\n",
       "    </tr>\n",
       "    <tr>\n",
       "      <th>3</th>\n",
       "      <td>2019-01-22 13:11:43.507</td>\n",
       "      <td>Zone 4</td>\n",
       "      <td>Female</td>\n",
       "      <td>A</td>\n",
       "      <td>A little under</td>\n",
       "      <td>Just comfortable</td>\n",
       "      <td>Just nice</td>\n",
       "      <td>Just acceptable</td>\n",
       "      <td>Somewhat satisfied</td>\n",
       "      <td>Neutral</td>\n",
       "    </tr>\n",
       "    <tr>\n",
       "      <th>4</th>\n",
       "      <td>2019-01-22 13:16:09.528</td>\n",
       "      <td>Zone 2</td>\n",
       "      <td>Female</td>\n",
       "      <td>A</td>\n",
       "      <td>Just sufficient</td>\n",
       "      <td>Just comfortable</td>\n",
       "      <td>Just nice</td>\n",
       "      <td>Just acceptable</td>\n",
       "      <td>Somewhat dissatisfied</td>\n",
       "      <td>Neutral</td>\n",
       "    </tr>\n",
       "  </tbody>\n",
       "</table>\n",
       "</div>"
      ]
     },
     "execution_count": 6,
     "metadata": {},
     "output_type": "execute_result"
    }
   ],
   "source": [
    "all_zones_df.iloc[:5, :10]"
   ]
  },
  {
   "cell_type": "code",
   "execution_count": 7,
   "metadata": {},
   "outputs": [
    {
     "data": {
      "text/html": [
       "<div>\n",
       "<style scoped>\n",
       "    .dataframe tbody tr th:only-of-type {\n",
       "        vertical-align: middle;\n",
       "    }\n",
       "\n",
       "    .dataframe tbody tr th {\n",
       "        vertical-align: top;\n",
       "    }\n",
       "\n",
       "    .dataframe thead th {\n",
       "        text-align: right;\n",
       "    }\n",
       "</style>\n",
       "<table border=\"1\" class=\"dataframe\">\n",
       "  <thead>\n",
       "    <tr style=\"text-align: right;\">\n",
       "      <th></th>\n",
       "      <th>时间戳记</th>\n",
       "      <th>Which Zone are you sitting in</th>\n",
       "      <th>What is your gender?</th>\n",
       "      <th>What is your clothing like?</th>\n",
       "      <th>Do you feel you have adequate rest/sleep the previous night? [`]</th>\n",
       "      <th>Indoor environment perception [Temperature]</th>\n",
       "      <th>` [Air movement]</th>\n",
       "      <th>` [Air Quality]</th>\n",
       "      <th>Indoor Environmental Satisfaction [Temperature]</th>\n",
       "      <th>Indoor Environmental Satisfaction [Air movement]</th>\n",
       "    </tr>\n",
       "  </thead>\n",
       "  <tbody>\n",
       "    <tr>\n",
       "      <th>134</th>\n",
       "      <td>2019-01-22 13:41:00.157</td>\n",
       "      <td>Zone 3</td>\n",
       "      <td>Female</td>\n",
       "      <td>A</td>\n",
       "      <td>A little under</td>\n",
       "      <td>Cool</td>\n",
       "      <td>Just nice</td>\n",
       "      <td>A little smelly/stale</td>\n",
       "      <td>Somewhat satisfied</td>\n",
       "      <td>Neutral</td>\n",
       "    </tr>\n",
       "    <tr>\n",
       "      <th>135</th>\n",
       "      <td>2019-01-22 13:41:13.449</td>\n",
       "      <td>Zone 4</td>\n",
       "      <td>Female</td>\n",
       "      <td>A</td>\n",
       "      <td>Just sufficient</td>\n",
       "      <td>Slightly cool</td>\n",
       "      <td>A little weak</td>\n",
       "      <td>A little smelly/stale</td>\n",
       "      <td>Neutral</td>\n",
       "      <td>Neutral</td>\n",
       "    </tr>\n",
       "    <tr>\n",
       "      <th>136</th>\n",
       "      <td>2019-01-22 13:41:49.097</td>\n",
       "      <td>Zone 3</td>\n",
       "      <td>Male</td>\n",
       "      <td>A</td>\n",
       "      <td>A little under</td>\n",
       "      <td>Warm</td>\n",
       "      <td>A little weak</td>\n",
       "      <td>A little smelly/stale</td>\n",
       "      <td>Dissatisfied</td>\n",
       "      <td>Dissatisfied</td>\n",
       "    </tr>\n",
       "    <tr>\n",
       "      <th>137</th>\n",
       "      <td>2019-01-22 13:41:57.498</td>\n",
       "      <td>Zone 1</td>\n",
       "      <td>Female</td>\n",
       "      <td>A</td>\n",
       "      <td>A little under</td>\n",
       "      <td>Just comfortable</td>\n",
       "      <td>Just nice</td>\n",
       "      <td>A little smelly/stale</td>\n",
       "      <td>Somewhat satisfied</td>\n",
       "      <td>Neutral</td>\n",
       "    </tr>\n",
       "    <tr>\n",
       "      <th>138</th>\n",
       "      <td>2019-01-22 15:30:48.002</td>\n",
       "      <td>Zone 1</td>\n",
       "      <td>Male</td>\n",
       "      <td>B</td>\n",
       "      <td>Just sufficient</td>\n",
       "      <td>A little warm</td>\n",
       "      <td>A little weak</td>\n",
       "      <td>A little smelly/stale</td>\n",
       "      <td>Somewhat dissatisfied</td>\n",
       "      <td>Somewhat dissatisfied</td>\n",
       "    </tr>\n",
       "  </tbody>\n",
       "</table>\n",
       "</div>"
      ],
      "text/plain": [
       "<div>\n",
       "<style scoped>\n",
       "    .dataframe tbody tr th:only-of-type {\n",
       "        vertical-align: middle;\n",
       "    }\n",
       "\n",
       "    .dataframe tbody tr th {\n",
       "        vertical-align: top;\n",
       "    }\n",
       "\n",
       "    .dataframe thead th {\n",
       "        text-align: right;\n",
       "    }\n",
       "</style>\n",
       "<table border=\"1\" class=\"dataframe\">\n",
       "  <thead>\n",
       "    <tr style=\"text-align: right;\">\n",
       "      <th></th>\n",
       "      <th>时间戳记</th>\n",
       "      <th>Which Zone are you sitting in</th>\n",
       "      <th>What is your gender?</th>\n",
       "      <th>What is your clothing like?</th>\n",
       "      <th>Do you feel you have adequate rest/sleep the previous night? [`]</th>\n",
       "      <th>Indoor environment perception [Temperature]</th>\n",
       "      <th>` [Air movement]</th>\n",
       "      <th>` [Air Quality]</th>\n",
       "      <th>Indoor Environmental Satisfaction [Temperature]</th>\n",
       "      <th>Indoor Environmental Satisfaction [Air movement]</th>\n",
       "    </tr>\n",
       "  </thead>\n",
       "  <tbody>\n",
       "    <tr>\n",
       "      <th>134</th>\n",
       "      <td>2019-01-22 13:41:00.157</td>\n",
       "      <td>Zone 3</td>\n",
       "      <td>Female</td>\n",
       "      <td>A</td>\n",
       "      <td>A little under</td>\n",
       "      <td>Cool</td>\n",
       "      <td>Just nice</td>\n",
       "      <td>A little smelly/stale</td>\n",
       "      <td>Somewhat satisfied</td>\n",
       "      <td>Neutral</td>\n",
       "    </tr>\n",
       "    <tr>\n",
       "      <th>135</th>\n",
       "      <td>2019-01-22 13:41:13.449</td>\n",
       "      <td>Zone 4</td>\n",
       "      <td>Female</td>\n",
       "      <td>A</td>\n",
       "      <td>Just sufficient</td>\n",
       "      <td>Slightly cool</td>\n",
       "      <td>A little weak</td>\n",
       "      <td>A little smelly/stale</td>\n",
       "      <td>Neutral</td>\n",
       "      <td>Neutral</td>\n",
       "    </tr>\n",
       "    <tr>\n",
       "      <th>136</th>\n",
       "      <td>2019-01-22 13:41:49.097</td>\n",
       "      <td>Zone 3</td>\n",
       "      <td>Male</td>\n",
       "      <td>A</td>\n",
       "      <td>A little under</td>\n",
       "      <td>Warm</td>\n",
       "      <td>A little weak</td>\n",
       "      <td>A little smelly/stale</td>\n",
       "      <td>Dissatisfied</td>\n",
       "      <td>Dissatisfied</td>\n",
       "    </tr>\n",
       "    <tr>\n",
       "      <th>137</th>\n",
       "      <td>2019-01-22 13:41:57.498</td>\n",
       "      <td>Zone 1</td>\n",
       "      <td>Female</td>\n",
       "      <td>A</td>\n",
       "      <td>A little under</td>\n",
       "      <td>Just comfortable</td>\n",
       "      <td>Just nice</td>\n",
       "      <td>A little smelly/stale</td>\n",
       "      <td>Somewhat satisfied</td>\n",
       "      <td>Neutral</td>\n",
       "    </tr>\n",
       "    <tr>\n",
       "      <th>138</th>\n",
       "      <td>2019-01-22 15:30:48.002</td>\n",
       "      <td>Zone 1</td>\n",
       "      <td>Male</td>\n",
       "      <td>B</td>\n",
       "      <td>Just sufficient</td>\n",
       "      <td>A little warm</td>\n",
       "      <td>A little weak</td>\n",
       "      <td>A little smelly/stale</td>\n",
       "      <td>Somewhat dissatisfied</td>\n",
       "      <td>Somewhat dissatisfied</td>\n",
       "    </tr>\n",
       "  </tbody>\n",
       "</table>\n",
       "</div>"
      ]
     },
     "execution_count": 7,
     "metadata": {},
     "output_type": "execute_result"
    }
   ],
   "source": [
    "all_zones_df.iloc[-5:, :10]"
   ]
  },
  {
   "cell_type": "code",
   "execution_count": 38,
   "metadata": {},
   "outputs": [
    {
     "data": {
      "text/plain": [
       "['时间戳记',\n 'Which Zone are you sitting in',\n 'What is your gender?',\n 'What is your clothing like?',\n 'Do you feel you have adequate restsleep the previous night?',\n 'Indoor environment perception [Temperature]',\n '[Air movement]',\n '[Air Quality]',\n 'Indoor Environmental Satisfaction [Temperature]',\n 'Indoor Environmental Satisfaction [Air movement]',\n 'Indoor Environmental Satisfaction [Air quality]',\n 'Indoor Environmental Satisfaction [Overall]',\n 'How much do you experience the following [Headaches]',\n 'How much do you experience the following [Difficulty in concentration]',\n 'How much do you experience the following [Dry skin]',\n 'How much do you experience the following [Sleepiness]',\n 'How much do you experience the following [Eye irritation]',\n 'How much do you experience the following [Throat irritation]',\n 'How much do you experience the following [Running nose]',\n 'How much do you experience the following [SneezingCoughing]']"
      ]
     },
     "execution_count": 38,
     "metadata": {},
     "output_type": "execute_result"
    }
   ],
   "source": [
    "col_names = list(all_zones_df.columns)\n",
    "col_names = list(map(lambda x: re.sub(r'[`/]|\\[\\]+', '', x), col_names))\n",
    "col_names = list(map(lambda x: re.sub(r'^ +| +$', '', x), col_names))\n",
    "col_names"
   ]
  },
  {
   "cell_type": "code",
   "execution_count": 39,
   "metadata": {},
   "outputs": [
    {
     "data": {
      "text/html": [
       "<div>\n",
       "<style scoped>\n",
       "    .dataframe tbody tr th:only-of-type {\n",
       "        vertical-align: middle;\n",
       "    }\n",
       "\n",
       "    .dataframe tbody tr th {\n",
       "        vertical-align: top;\n",
       "    }\n",
       "\n",
       "    .dataframe thead th {\n",
       "        text-align: right;\n",
       "    }\n",
       "</style>\n",
       "<table border=\"1\" class=\"dataframe\">\n",
       "  <thead>\n",
       "    <tr style=\"text-align: right;\">\n",
       "      <th></th>\n",
       "      <th>时间戳记</th>\n",
       "      <th>Which Zone are you sitting in</th>\n",
       "      <th>What is your gender?</th>\n",
       "      <th>What is your clothing like?</th>\n",
       "      <th>Do you feel you have adequate restsleep the previous night?</th>\n",
       "    </tr>\n",
       "  </thead>\n",
       "  <tbody>\n",
       "    <tr>\n",
       "      <th>0</th>\n",
       "      <td>2018-10-05 17:05:46.359</td>\n",
       "      <td>NaN</td>\n",
       "      <td>Female</td>\n",
       "      <td>B</td>\n",
       "      <td>NaN</td>\n",
       "    </tr>\n",
       "    <tr>\n",
       "      <th>1</th>\n",
       "      <td>2019-01-18 17:10:46.523</td>\n",
       "      <td>Zone 1</td>\n",
       "      <td>Male</td>\n",
       "      <td>A</td>\n",
       "      <td>Too little</td>\n",
       "    </tr>\n",
       "    <tr>\n",
       "      <th>2</th>\n",
       "      <td>2019-01-22 10:06:39.373</td>\n",
       "      <td>Zone 3</td>\n",
       "      <td>Male</td>\n",
       "      <td>B</td>\n",
       "      <td>A little under</td>\n",
       "    </tr>\n",
       "    <tr>\n",
       "      <th>3</th>\n",
       "      <td>2019-01-22 13:11:43.507</td>\n",
       "      <td>Zone 4</td>\n",
       "      <td>Female</td>\n",
       "      <td>A</td>\n",
       "      <td>A little under</td>\n",
       "    </tr>\n",
       "    <tr>\n",
       "      <th>4</th>\n",
       "      <td>2019-01-22 13:16:09.528</td>\n",
       "      <td>Zone 2</td>\n",
       "      <td>Female</td>\n",
       "      <td>A</td>\n",
       "      <td>Just sufficient</td>\n",
       "    </tr>\n",
       "  </tbody>\n",
       "</table>\n",
       "</div>"
      ],
      "text/plain": [
       "<div>\n",
       "<style scoped>\n",
       "    .dataframe tbody tr th:only-of-type {\n",
       "        vertical-align: middle;\n",
       "    }\n",
       "\n",
       "    .dataframe tbody tr th {\n",
       "        vertical-align: top;\n",
       "    }\n",
       "\n",
       "    .dataframe thead th {\n",
       "        text-align: right;\n",
       "    }\n",
       "</style>\n",
       "<table border=\"1\" class=\"dataframe\">\n",
       "  <thead>\n",
       "    <tr style=\"text-align: right;\">\n",
       "      <th></th>\n",
       "      <th>时间戳记</th>\n",
       "      <th>Which Zone are you sitting in</th>\n",
       "      <th>What is your gender?</th>\n",
       "      <th>What is your clothing like?</th>\n",
       "      <th>Do you feel you have adequate restsleep the previous night?</th>\n",
       "    </tr>\n",
       "  </thead>\n",
       "  <tbody>\n",
       "    <tr>\n",
       "      <th>0</th>\n",
       "      <td>2018-10-05 17:05:46.359</td>\n",
       "      <td>NaN</td>\n",
       "      <td>Female</td>\n",
       "      <td>B</td>\n",
       "      <td>NaN</td>\n",
       "    </tr>\n",
       "    <tr>\n",
       "      <th>1</th>\n",
       "      <td>2019-01-18 17:10:46.523</td>\n",
       "      <td>Zone 1</td>\n",
       "      <td>Male</td>\n",
       "      <td>A</td>\n",
       "      <td>Too little</td>\n",
       "    </tr>\n",
       "    <tr>\n",
       "      <th>2</th>\n",
       "      <td>2019-01-22 10:06:39.373</td>\n",
       "      <td>Zone 3</td>\n",
       "      <td>Male</td>\n",
       "      <td>B</td>\n",
       "      <td>A little under</td>\n",
       "    </tr>\n",
       "    <tr>\n",
       "      <th>3</th>\n",
       "      <td>2019-01-22 13:11:43.507</td>\n",
       "      <td>Zone 4</td>\n",
       "      <td>Female</td>\n",
       "      <td>A</td>\n",
       "      <td>A little under</td>\n",
       "    </tr>\n",
       "    <tr>\n",
       "      <th>4</th>\n",
       "      <td>2019-01-22 13:16:09.528</td>\n",
       "      <td>Zone 2</td>\n",
       "      <td>Female</td>\n",
       "      <td>A</td>\n",
       "      <td>Just sufficient</td>\n",
       "    </tr>\n",
       "  </tbody>\n",
       "</table>\n",
       "</div>"
      ]
     },
     "execution_count": 39,
     "metadata": {},
     "output_type": "execute_result"
    }
   ],
   "source": [
    "all_zones_df.columns = col_names\n",
    "all_zones_df.iloc[:5, :5]"
   ]
  },
  {
   "cell_type": "code",
   "execution_count": 40,
   "metadata": {},
   "outputs": [
    {
     "name": "stdout",
     "output_type": "stream",
     "text": [
      "<class 'pandas.core.frame.DataFrame'>\nRangeIndex: 60 entries, 0 to 59\nData columns (total 20 columns):\n时间戳记                                                                      60 non-null datetime64[ns]\nWhich Zone are you sitting in                                             60 non-null object\nWhat is your gender?                                                      59 non-null object\nWhat is your clothing like?                                               60 non-null object\nDo you feel you have adequate restsleep the previous night?               60 non-null object\nIndoor environment perception [Temperature]                               60 non-null object\n[Air movement]                                                            60 non-null object\n[Air Quality]                                                             60 non-null object\nIndoor Environmental Satisfaction [Temperature]                           60 non-null object\nIndoor Environmental Satisfaction [Air movement]                          60 non-null object\nIndoor Environmental Satisfaction [Air quality]                           60 non-null object\nIndoor Environmental Satisfaction [Overall]                               59 non-null object\nHow much do you experience the following [Headaches]                      60 non-null object\nHow much do you experience the following [Difficulty in concentration]    60 non-null object\nHow much do you experience the following [Dry skin]                       60 non-null object\nHow much do you experience the following [Sleepiness]                     60 non-null object\nHow much do you experience the following [Eye irritation]                 60 non-null object\nHow much do you experience the following [Throat irritation]              60 non-null object\nHow much do you experience the following [Running nose]                   60 non-null object\nHow much do you experience the following [SneezingCoughing]               60 non-null object\ndtypes: datetime64[ns](1), object(19)\nmemory usage: 9.5+ KB\n"
     ]
    }
   ],
   "source": [
    "lower_df = all_zones_df.loc[(all_zones_df['Which Zone are you sitting in'] == 'Zone 3') | (all_zones_df['Which Zone are you sitting in'] == 'Zone 4'), :]\n",
    "lower_df.reset_index(drop=True, inplace=True)\n",
    "lower_df.info()"
   ]
  },
  {
   "cell_type": "code",
   "execution_count": 41,
   "metadata": {
    "collapsed": false
   },
   "outputs": [
    {
     "data": {
      "text/html": [
       "<div>\n",
       "<style scoped>\n",
       "    .dataframe tbody tr th:only-of-type {\n",
       "        vertical-align: middle;\n",
       "    }\n",
       "\n",
       "    .dataframe tbody tr th {\n",
       "        vertical-align: top;\n",
       "    }\n",
       "\n",
       "    .dataframe thead th {\n",
       "        text-align: right;\n",
       "    }\n",
       "</style>\n",
       "<table border=\"1\" class=\"dataframe\">\n",
       "  <thead>\n",
       "    <tr style=\"text-align: right;\">\n",
       "      <th></th>\n",
       "      <th>时间戳记</th>\n",
       "      <th>Which Zone are you sitting in</th>\n",
       "      <th>What is your gender?</th>\n",
       "      <th>What is your clothing like?</th>\n",
       "      <th>Do you feel you have adequate restsleep the previous night?</th>\n",
       "    </tr>\n",
       "  </thead>\n",
       "  <tbody>\n",
       "    <tr>\n",
       "      <th>0</th>\n",
       "      <td>2019-01-22 10:06:39.373</td>\n",
       "      <td>Zone 3</td>\n",
       "      <td>Male</td>\n",
       "      <td>B</td>\n",
       "      <td>A little under</td>\n",
       "    </tr>\n",
       "    <tr>\n",
       "      <th>1</th>\n",
       "      <td>2019-01-22 13:11:43.507</td>\n",
       "      <td>Zone 4</td>\n",
       "      <td>Female</td>\n",
       "      <td>A</td>\n",
       "      <td>A little under</td>\n",
       "    </tr>\n",
       "    <tr>\n",
       "      <th>2</th>\n",
       "      <td>2019-01-22 13:16:37.913</td>\n",
       "      <td>Zone 4</td>\n",
       "      <td>Male</td>\n",
       "      <td>A</td>\n",
       "      <td>Too little</td>\n",
       "    </tr>\n",
       "    <tr>\n",
       "      <th>3</th>\n",
       "      <td>2019-01-22 13:16:43.003</td>\n",
       "      <td>Zone 4</td>\n",
       "      <td>Female</td>\n",
       "      <td>A</td>\n",
       "      <td>Just sufficient</td>\n",
       "    </tr>\n",
       "    <tr>\n",
       "      <th>4</th>\n",
       "      <td>2019-01-22 13:16:43.734</td>\n",
       "      <td>Zone 3</td>\n",
       "      <td>Female</td>\n",
       "      <td>A</td>\n",
       "      <td>A little under</td>\n",
       "    </tr>\n",
       "  </tbody>\n",
       "</table>\n",
       "</div>"
      ],
      "text/plain": [
       "<div>\n",
       "<style scoped>\n",
       "    .dataframe tbody tr th:only-of-type {\n",
       "        vertical-align: middle;\n",
       "    }\n",
       "\n",
       "    .dataframe tbody tr th {\n",
       "        vertical-align: top;\n",
       "    }\n",
       "\n",
       "    .dataframe thead th {\n",
       "        text-align: right;\n",
       "    }\n",
       "</style>\n",
       "<table border=\"1\" class=\"dataframe\">\n",
       "  <thead>\n",
       "    <tr style=\"text-align: right;\">\n",
       "      <th></th>\n",
       "      <th>时间戳记</th>\n",
       "      <th>Which Zone are you sitting in</th>\n",
       "      <th>What is your gender?</th>\n",
       "      <th>What is your clothing like?</th>\n",
       "      <th>Do you feel you have adequate restsleep the previous night?</th>\n",
       "    </tr>\n",
       "  </thead>\n",
       "  <tbody>\n",
       "    <tr>\n",
       "      <th>0</th>\n",
       "      <td>2019-01-22 10:06:39.373</td>\n",
       "      <td>Zone 3</td>\n",
       "      <td>Male</td>\n",
       "      <td>B</td>\n",
       "      <td>A little under</td>\n",
       "    </tr>\n",
       "    <tr>\n",
       "      <th>1</th>\n",
       "      <td>2019-01-22 13:11:43.507</td>\n",
       "      <td>Zone 4</td>\n",
       "      <td>Female</td>\n",
       "      <td>A</td>\n",
       "      <td>A little under</td>\n",
       "    </tr>\n",
       "    <tr>\n",
       "      <th>2</th>\n",
       "      <td>2019-01-22 13:16:37.913</td>\n",
       "      <td>Zone 4</td>\n",
       "      <td>Male</td>\n",
       "      <td>A</td>\n",
       "      <td>Too little</td>\n",
       "    </tr>\n",
       "    <tr>\n",
       "      <th>3</th>\n",
       "      <td>2019-01-22 13:16:43.003</td>\n",
       "      <td>Zone 4</td>\n",
       "      <td>Female</td>\n",
       "      <td>A</td>\n",
       "      <td>Just sufficient</td>\n",
       "    </tr>\n",
       "    <tr>\n",
       "      <th>4</th>\n",
       "      <td>2019-01-22 13:16:43.734</td>\n",
       "      <td>Zone 3</td>\n",
       "      <td>Female</td>\n",
       "      <td>A</td>\n",
       "      <td>A little under</td>\n",
       "    </tr>\n",
       "  </tbody>\n",
       "</table>\n",
       "</div>"
      ]
     },
     "execution_count": 41,
     "metadata": {},
     "output_type": "execute_result"
    }
   ],
   "source": [
    "lower_df.iloc[:5, :5]"
   ]
  },
  {
   "cell_type": "code",
   "execution_count": 42,
   "metadata": {},
   "outputs": [
    {
     "name": "stdout",
     "output_type": "stream",
     "text": [
      "<class 'pandas.core.frame.DataFrame'>\nInt64Index: 78 entries, 1 to 138\nData columns (total 20 columns):\n时间戳记                                                                      78 non-null datetime64[ns]\nWhich Zone are you sitting in                                             78 non-null object\nWhat is your gender?                                                      78 non-null object\nWhat is your clothing like?                                               78 non-null object\nDo you feel you have adequate restsleep the previous night?               77 non-null object\nIndoor environment perception [Temperature]                               78 non-null object\n[Air movement]                                                            78 non-null object\n[Air Quality]                                                             78 non-null object\nIndoor Environmental Satisfaction [Temperature]                           78 non-null object\nIndoor Environmental Satisfaction [Air movement]                          78 non-null object\nIndoor Environmental Satisfaction [Air quality]                           78 non-null object\nIndoor Environmental Satisfaction [Overall]                               77 non-null object\nHow much do you experience the following [Headaches]                      78 non-null object\nHow much do you experience the following [Difficulty in concentration]    78 non-null object\nHow much do you experience the following [Dry skin]                       78 non-null object\nHow much do you experience the following [Sleepiness]                     78 non-null object\nHow much do you experience the following [Eye irritation]                 77 non-null object\nHow much do you experience the following [Throat irritation]              78 non-null object\nHow much do you experience the following [Running nose]                   78 non-null object\nHow much do you experience the following [SneezingCoughing]               78 non-null object\ndtypes: datetime64[ns](1), object(19)\nmemory usage: 12.8+ KB\n"
     ]
    }
   ],
   "source": [
    "upper_df = all_zones_df.loc[(all_zones_df['Which Zone are you sitting in'] == 'Zone 1') | (all_zones_df['Which Zone are you sitting in'] == 'Zone 2'), :]\n",
    "upper_df.reset_index(drop=True)\n",
    "upper_df.info()"
   ]
  },
  {
   "cell_type": "code",
   "execution_count": 43,
   "metadata": {},
   "outputs": [
    {
     "data": {
      "text/html": [
       "<div>\n",
       "<style scoped>\n",
       "    .dataframe tbody tr th:only-of-type {\n",
       "        vertical-align: middle;\n",
       "    }\n",
       "\n",
       "    .dataframe tbody tr th {\n",
       "        vertical-align: top;\n",
       "    }\n",
       "\n",
       "    .dataframe thead th {\n",
       "        text-align: right;\n",
       "    }\n",
       "</style>\n",
       "<table border=\"1\" class=\"dataframe\">\n",
       "  <thead>\n",
       "    <tr style=\"text-align: right;\">\n",
       "      <th></th>\n",
       "      <th>时间戳记</th>\n",
       "      <th>Which Zone are you sitting in</th>\n",
       "      <th>What is your gender?</th>\n",
       "      <th>What is your clothing like?</th>\n",
       "      <th>Do you feel you have adequate restsleep the previous night?</th>\n",
       "    </tr>\n",
       "  </thead>\n",
       "  <tbody>\n",
       "    <tr>\n",
       "      <th>1</th>\n",
       "      <td>2019-01-18 17:10:46.523</td>\n",
       "      <td>Zone 1</td>\n",
       "      <td>Male</td>\n",
       "      <td>A</td>\n",
       "      <td>Too little</td>\n",
       "    </tr>\n",
       "    <tr>\n",
       "      <th>4</th>\n",
       "      <td>2019-01-22 13:16:09.528</td>\n",
       "      <td>Zone 2</td>\n",
       "      <td>Female</td>\n",
       "      <td>A</td>\n",
       "      <td>Just sufficient</td>\n",
       "    </tr>\n",
       "    <tr>\n",
       "      <th>5</th>\n",
       "      <td>2019-01-22 13:16:26.069</td>\n",
       "      <td>Zone 1</td>\n",
       "      <td>Female</td>\n",
       "      <td>A</td>\n",
       "      <td>Just sufficient</td>\n",
       "    </tr>\n",
       "    <tr>\n",
       "      <th>9</th>\n",
       "      <td>2019-01-22 13:16:44.703</td>\n",
       "      <td>Zone 1</td>\n",
       "      <td>Male</td>\n",
       "      <td>A</td>\n",
       "      <td>Just sufficient</td>\n",
       "    </tr>\n",
       "    <tr>\n",
       "      <th>12</th>\n",
       "      <td>2019-01-22 13:16:55.189</td>\n",
       "      <td>Zone 1</td>\n",
       "      <td>Female</td>\n",
       "      <td>A</td>\n",
       "      <td>Just sufficient</td>\n",
       "    </tr>\n",
       "  </tbody>\n",
       "</table>\n",
       "</div>"
      ],
      "text/plain": [
       "<div>\n",
       "<style scoped>\n",
       "    .dataframe tbody tr th:only-of-type {\n",
       "        vertical-align: middle;\n",
       "    }\n",
       "\n",
       "    .dataframe tbody tr th {\n",
       "        vertical-align: top;\n",
       "    }\n",
       "\n",
       "    .dataframe thead th {\n",
       "        text-align: right;\n",
       "    }\n",
       "</style>\n",
       "<table border=\"1\" class=\"dataframe\">\n",
       "  <thead>\n",
       "    <tr style=\"text-align: right;\">\n",
       "      <th></th>\n",
       "      <th>时间戳记</th>\n",
       "      <th>Which Zone are you sitting in</th>\n",
       "      <th>What is your gender?</th>\n",
       "      <th>What is your clothing like?</th>\n",
       "      <th>Do you feel you have adequate restsleep the previous night?</th>\n",
       "    </tr>\n",
       "  </thead>\n",
       "  <tbody>\n",
       "    <tr>\n",
       "      <th>1</th>\n",
       "      <td>2019-01-18 17:10:46.523</td>\n",
       "      <td>Zone 1</td>\n",
       "      <td>Male</td>\n",
       "      <td>A</td>\n",
       "      <td>Too little</td>\n",
       "    </tr>\n",
       "    <tr>\n",
       "      <th>4</th>\n",
       "      <td>2019-01-22 13:16:09.528</td>\n",
       "      <td>Zone 2</td>\n",
       "      <td>Female</td>\n",
       "      <td>A</td>\n",
       "      <td>Just sufficient</td>\n",
       "    </tr>\n",
       "    <tr>\n",
       "      <th>5</th>\n",
       "      <td>2019-01-22 13:16:26.069</td>\n",
       "      <td>Zone 1</td>\n",
       "      <td>Female</td>\n",
       "      <td>A</td>\n",
       "      <td>Just sufficient</td>\n",
       "    </tr>\n",
       "    <tr>\n",
       "      <th>9</th>\n",
       "      <td>2019-01-22 13:16:44.703</td>\n",
       "      <td>Zone 1</td>\n",
       "      <td>Male</td>\n",
       "      <td>A</td>\n",
       "      <td>Just sufficient</td>\n",
       "    </tr>\n",
       "    <tr>\n",
       "      <th>12</th>\n",
       "      <td>2019-01-22 13:16:55.189</td>\n",
       "      <td>Zone 1</td>\n",
       "      <td>Female</td>\n",
       "      <td>A</td>\n",
       "      <td>Just sufficient</td>\n",
       "    </tr>\n",
       "  </tbody>\n",
       "</table>\n",
       "</div>"
      ]
     },
     "execution_count": 43,
     "metadata": {},
     "output_type": "execute_result"
    }
   ],
   "source": [
    "upper_df.iloc[:5, :5]"
   ]
  },
  {
   "cell_type": "code",
   "execution_count": 44,
   "metadata": {},
   "outputs": [
    {
     "data": {
      "text/plain": [
       "Index(['时间戳记', 'Which Zone are you sitting in', 'What is your gender?',\n       'What is your clothing like?',\n       'Do you feel you have adequate restsleep the previous night?',\n       'Indoor environment perception [Temperature]', '[Air movement]',\n       '[Air Quality]', 'Indoor Environmental Satisfaction [Temperature]',\n       'Indoor Environmental Satisfaction [Air movement]',\n       'Indoor Environmental Satisfaction [Air quality]',\n       'Indoor Environmental Satisfaction [Overall]',\n       'How much do you experience the following [Headaches]',\n       'How much do you experience the following [Difficulty in concentration]',\n       'How much do you experience the following [Dry skin]',\n       'How much do you experience the following [Sleepiness]',\n       'How much do you experience the following [Eye irritation]',\n       'How much do you experience the following [Throat irritation]',\n       'How much do you experience the following [Running nose]',\n       'How much do you experience the following [SneezingCoughing]'],\n      dtype='object')"
      ]
     },
     "execution_count": 44,
     "metadata": {},
     "output_type": "execute_result"
    }
   ],
   "source": [
    "lower_df.columns"
   ]
  },
  {
   "cell_type": "code",
   "execution_count": 45,
   "metadata": {},
   "outputs": [
    {
     "name": "stdout",
     "output_type": "stream",
     "text": [
      "<class 'pandas.core.frame.DataFrame'>\nInt64Index: 45 entries, 1 to 59\nData columns (total 20 columns):\n时间戳记                                                                      45 non-null datetime64[ns]\nWhich Zone are you sitting in                                             45 non-null object\nWhat is your gender?                                                      44 non-null object\nWhat is your clothing like?                                               45 non-null object\nDo you feel you have adequate restsleep the previous night?               45 non-null object\nIndoor environment perception [Temperature]                               45 non-null object\n[Air movement]                                                            45 non-null object\n[Air Quality]                                                             45 non-null object\nIndoor Environmental Satisfaction [Temperature]                           45 non-null object\nIndoor Environmental Satisfaction [Air movement]                          45 non-null object\nIndoor Environmental Satisfaction [Air quality]                           45 non-null object\nIndoor Environmental Satisfaction [Overall]                               44 non-null object\nHow much do you experience the following [Headaches]                      45 non-null object\nHow much do you experience the following [Difficulty in concentration]    45 non-null object\nHow much do you experience the following [Dry skin]                       45 non-null object\nHow much do you experience the following [Sleepiness]                     45 non-null object\nHow much do you experience the following [Eye irritation]                 45 non-null object\nHow much do you experience the following [Throat irritation]              45 non-null object\nHow much do you experience the following [Running nose]                   45 non-null object\nHow much do you experience the following [SneezingCoughing]               45 non-null object\ndtypes: datetime64[ns](1), object(19)\nmemory usage: 7.4+ KB\n"
     ]
    }
   ],
   "source": [
    "lower_a_df = lower_df.loc[lower_df['What is your clothing like?'] == 'A', :]\n",
    "lower_a_df.info()"
   ]
  },
  {
   "cell_type": "code",
   "execution_count": 77,
   "metadata": {},
   "outputs": [],
   "source": [
    "g1 = lower_df.groupby(['What is your clothing like?'])"
   ]
  },
  {
   "cell_type": "code",
   "execution_count": 80,
   "metadata": {},
   "outputs": [
    {
     "name": "stdout",
     "output_type": "stream",
     "text": [
      "What is your clothing like?\nA    45\nB    11\nC     4\ndtype: int64\n"
     ]
    }
   ],
   "source": [
    "print(g1.size())"
   ]
  },
  {
   "cell_type": "code",
   "execution_count": 100,
   "metadata": {},
   "outputs": [
    {
     "data": {
      "text/plain": [
       "['A', 'B', 'C']"
      ]
     },
     "execution_count": 100,
     "metadata": {},
     "output_type": "execute_result"
    }
   ],
   "source": [
    "list(g1.groups.keys())"
   ]
  },
  {
   "cell_type": "code",
   "execution_count": 82,
   "metadata": {},
   "outputs": [
    {
     "name": "stdout",
     "output_type": "stream",
     "text": [
      "<class 'pandas.core.frame.DataFrame'>\nInt64Index: 45 entries, 1 to 59\nData columns (total 20 columns):\n时间戳记                                                                      45 non-null datetime64[ns]\nWhich Zone are you sitting in                                             45 non-null object\nWhat is your gender?                                                      44 non-null object\nWhat is your clothing like?                                               45 non-null object\nDo you feel you have adequate restsleep the previous night?               45 non-null object\nIndoor environment perception [Temperature]                               45 non-null object\n[Air movement]                                                            45 non-null object\n[Air Quality]                                                             45 non-null object\nIndoor Environmental Satisfaction [Temperature]                           45 non-null object\nIndoor Environmental Satisfaction [Air movement]                          45 non-null object\nIndoor Environmental Satisfaction [Air quality]                           45 non-null object\nIndoor Environmental Satisfaction [Overall]                               44 non-null object\nHow much do you experience the following [Headaches]                      45 non-null object\nHow much do you experience the following [Difficulty in concentration]    45 non-null object\nHow much do you experience the following [Dry skin]                       45 non-null object\nHow much do you experience the following [Sleepiness]                     45 non-null object\nHow much do you experience the following [Eye irritation]                 45 non-null object\nHow much do you experience the following [Throat irritation]              45 non-null object\nHow much do you experience the following [Running nose]                   45 non-null object\nHow much do you experience the following [SneezingCoughing]               45 non-null object\ndtypes: datetime64[ns](1), object(19)\nmemory usage: 7.4+ KB\n"
     ]
    }
   ],
   "source": [
    "g1.get_group('A').info()"
   ]
  },
  {
   "cell_type": "code",
   "execution_count": 86,
   "metadata": {},
   "outputs": [],
   "source": [
    "lower_by_clothing = []\n",
    "for i in g1.groups.keys():\n",
    "    lower_by_clothing.append(g1.get_group(i))"
   ]
  },
  {
   "cell_type": "code",
   "execution_count": 87,
   "metadata": {},
   "outputs": [
    {
     "data": {
      "text/plain": [
       "3"
      ]
     },
     "execution_count": 87,
     "metadata": {},
     "output_type": "execute_result"
    }
   ],
   "source": [
    "len(lower_by_clothing)"
   ]
  },
  {
   "cell_type": "code",
   "execution_count": 88,
   "metadata": {},
   "outputs": [
    {
     "name": "stdout",
     "output_type": "stream",
     "text": [
      "<class 'pandas.core.frame.DataFrame'>\nInt64Index: 45 entries, 1 to 59\nData columns (total 20 columns):\n时间戳记                                                                      45 non-null datetime64[ns]\nWhich Zone are you sitting in                                             45 non-null object\nWhat is your gender?                                                      44 non-null object\nWhat is your clothing like?                                               45 non-null object\nDo you feel you have adequate restsleep the previous night?               45 non-null object\nIndoor environment perception [Temperature]                               45 non-null object\n[Air movement]                                                            45 non-null object\n[Air Quality]                                                             45 non-null object\nIndoor Environmental Satisfaction [Temperature]                           45 non-null object\nIndoor Environmental Satisfaction [Air movement]                          45 non-null object\nIndoor Environmental Satisfaction [Air quality]                           45 non-null object\nIndoor Environmental Satisfaction [Overall]                               44 non-null object\nHow much do you experience the following [Headaches]                      45 non-null object\nHow much do you experience the following [Difficulty in concentration]    45 non-null object\nHow much do you experience the following [Dry skin]                       45 non-null object\nHow much do you experience the following [Sleepiness]                     45 non-null object\nHow much do you experience the following [Eye irritation]                 45 non-null object\nHow much do you experience the following [Throat irritation]              45 non-null object\nHow much do you experience the following [Running nose]                   45 non-null object\nHow much do you experience the following [SneezingCoughing]               45 non-null object\ndtypes: datetime64[ns](1), object(19)\nmemory usage: 7.4+ KB\n"
     ]
    }
   ],
   "source": [
    "lower_by_clothing[0].info()"
   ]
  },
  {
   "cell_type": "code",
   "execution_count": 89,
   "metadata": {},
   "outputs": [
    {
     "data": {
      "text/html": [
       "<div>\n",
       "<style scoped>\n",
       "    .dataframe tbody tr th:only-of-type {\n",
       "        vertical-align: middle;\n",
       "    }\n",
       "\n",
       "    .dataframe tbody tr th {\n",
       "        vertical-align: top;\n",
       "    }\n",
       "\n",
       "    .dataframe thead th {\n",
       "        text-align: right;\n",
       "    }\n",
       "</style>\n",
       "<table border=\"1\" class=\"dataframe\">\n",
       "  <thead>\n",
       "    <tr style=\"text-align: right;\">\n",
       "      <th></th>\n",
       "      <th>时间戳记</th>\n",
       "      <th>Which Zone are you sitting in</th>\n",
       "      <th>What is your gender?</th>\n",
       "      <th>What is your clothing like?</th>\n",
       "      <th>Do you feel you have adequate restsleep the previous night?</th>\n",
       "    </tr>\n",
       "  </thead>\n",
       "  <tbody>\n",
       "    <tr>\n",
       "      <th>1</th>\n",
       "      <td>2019-01-22 13:11:43.507</td>\n",
       "      <td>Zone 4</td>\n",
       "      <td>Female</td>\n",
       "      <td>A</td>\n",
       "      <td>A little under</td>\n",
       "    </tr>\n",
       "    <tr>\n",
       "      <th>2</th>\n",
       "      <td>2019-01-22 13:16:37.913</td>\n",
       "      <td>Zone 4</td>\n",
       "      <td>Male</td>\n",
       "      <td>A</td>\n",
       "      <td>Too little</td>\n",
       "    </tr>\n",
       "    <tr>\n",
       "      <th>3</th>\n",
       "      <td>2019-01-22 13:16:43.003</td>\n",
       "      <td>Zone 4</td>\n",
       "      <td>Female</td>\n",
       "      <td>A</td>\n",
       "      <td>Just sufficient</td>\n",
       "    </tr>\n",
       "    <tr>\n",
       "      <th>4</th>\n",
       "      <td>2019-01-22 13:16:43.734</td>\n",
       "      <td>Zone 3</td>\n",
       "      <td>Female</td>\n",
       "      <td>A</td>\n",
       "      <td>A little under</td>\n",
       "    </tr>\n",
       "    <tr>\n",
       "      <th>5</th>\n",
       "      <td>2019-01-22 13:16:45.752</td>\n",
       "      <td>Zone 4</td>\n",
       "      <td>Female</td>\n",
       "      <td>A</td>\n",
       "      <td>Just sufficient</td>\n",
       "    </tr>\n",
       "  </tbody>\n",
       "</table>\n",
       "</div>"
      ],
      "text/plain": [
       "<div>\n",
       "<style scoped>\n",
       "    .dataframe tbody tr th:only-of-type {\n",
       "        vertical-align: middle;\n",
       "    }\n",
       "\n",
       "    .dataframe tbody tr th {\n",
       "        vertical-align: top;\n",
       "    }\n",
       "\n",
       "    .dataframe thead th {\n",
       "        text-align: right;\n",
       "    }\n",
       "</style>\n",
       "<table border=\"1\" class=\"dataframe\">\n",
       "  <thead>\n",
       "    <tr style=\"text-align: right;\">\n",
       "      <th></th>\n",
       "      <th>时间戳记</th>\n",
       "      <th>Which Zone are you sitting in</th>\n",
       "      <th>What is your gender?</th>\n",
       "      <th>What is your clothing like?</th>\n",
       "      <th>Do you feel you have adequate restsleep the previous night?</th>\n",
       "    </tr>\n",
       "  </thead>\n",
       "  <tbody>\n",
       "    <tr>\n",
       "      <th>1</th>\n",
       "      <td>2019-01-22 13:11:43.507</td>\n",
       "      <td>Zone 4</td>\n",
       "      <td>Female</td>\n",
       "      <td>A</td>\n",
       "      <td>A little under</td>\n",
       "    </tr>\n",
       "    <tr>\n",
       "      <th>2</th>\n",
       "      <td>2019-01-22 13:16:37.913</td>\n",
       "      <td>Zone 4</td>\n",
       "      <td>Male</td>\n",
       "      <td>A</td>\n",
       "      <td>Too little</td>\n",
       "    </tr>\n",
       "    <tr>\n",
       "      <th>3</th>\n",
       "      <td>2019-01-22 13:16:43.003</td>\n",
       "      <td>Zone 4</td>\n",
       "      <td>Female</td>\n",
       "      <td>A</td>\n",
       "      <td>Just sufficient</td>\n",
       "    </tr>\n",
       "    <tr>\n",
       "      <th>4</th>\n",
       "      <td>2019-01-22 13:16:43.734</td>\n",
       "      <td>Zone 3</td>\n",
       "      <td>Female</td>\n",
       "      <td>A</td>\n",
       "      <td>A little under</td>\n",
       "    </tr>\n",
       "    <tr>\n",
       "      <th>5</th>\n",
       "      <td>2019-01-22 13:16:45.752</td>\n",
       "      <td>Zone 4</td>\n",
       "      <td>Female</td>\n",
       "      <td>A</td>\n",
       "      <td>Just sufficient</td>\n",
       "    </tr>\n",
       "  </tbody>\n",
       "</table>\n",
       "</div>"
      ]
     },
     "execution_count": 89,
     "metadata": {},
     "output_type": "execute_result"
    }
   ],
   "source": [
    "lower_by_clothing[0].iloc[:5, :5]"
   ]
  },
  {
   "cell_type": "code",
   "execution_count": 91,
   "metadata": {},
   "outputs": [
    {
     "data": {
      "text/plain": [
       "True"
      ]
     },
     "execution_count": 91,
     "metadata": {},
     "output_type": "execute_result"
    }
   ],
   "source": [
    "(lower_by_clothing[0]['What is your clothing like?'] == 'A').all()"
   ]
  },
  {
   "cell_type": "code",
   "execution_count": 92,
   "metadata": {},
   "outputs": [
    {
     "data": {
      "text/plain": [
       "True"
      ]
     },
     "execution_count": 92,
     "metadata": {},
     "output_type": "execute_result"
    }
   ],
   "source": [
    "(lower_by_clothing[1]['What is your clothing like?'] == 'B').all()"
   ]
  },
  {
   "cell_type": "code",
   "execution_count": 93,
   "metadata": {},
   "outputs": [
    {
     "data": {
      "text/plain": [
       "True"
      ]
     },
     "execution_count": 93,
     "metadata": {},
     "output_type": "execute_result"
    }
   ],
   "source": [
    "(lower_by_clothing[2]['What is your clothing like?'] == 'C').all()"
   ]
  },
  {
   "cell_type": "code",
   "execution_count": 94,
   "metadata": {},
   "outputs": [],
   "source": [
    "g2 = upper_df.groupby(['What is your clothing like?'])\n",
    "upper_by_clothing = []\n",
    "for i in g2.groups.keys():\n",
    "    upper_by_clothing.append(g2.get_group(i))"
   ]
  },
  {
   "cell_type": "code",
   "execution_count": 97,
   "metadata": {},
   "outputs": [
    {
     "name": "stdout",
     "output_type": "stream",
     "text": [
      "A True\nB True\nC True\nD True\n"
     ]
    }
   ],
   "source": [
    "for idx, a_key in enumerate(g2.groups.keys()):\n",
    "    print(a_key, (upper_by_clothing[idx]['What is your clothing like?'] == a_key).all())"
   ]
  },
  {
   "cell_type": "code",
   "execution_count": 103,
   "metadata": {},
   "outputs": [],
   "source": [
    "import xlsxwriter\n",
    "writer = pd.ExcelWriter(os.path.join('data', 'data_transformed.xlsx'))\n",
    "lower_df.to_excel(writer, 'lower zone', index=False)\n",
    "for idx, df in enumerate(lower_by_clothing):\n",
    "    df.to_excel(writer, 'lower + ' + list(g1.groups.keys())[idx], index=False)\n",
    "upper_df.to_excel(writer, 'upper zone', index=False)\n",
    "for idx, df in enumerate(upper_by_clothing):\n",
    "    df.to_excel(writer, 'upper + ' + list(g2.groups.keys())[idx], index=False)\n",
    "writer.save()"
   ]
  },
  {
   "cell_type": "code",
   "execution_count": null,
   "metadata": {},
   "outputs": [],
   "source": []
  }
 ],
 "metadata": {
  "kernelspec": {
   "display_name": "Python 2",
   "language": "python",
   "name": "python2"
  },
  "language_info": {
   "codemirror_mode": {
    "name": "ipython",
    "version": 2
   },
   "file_extension": ".py",
   "mimetype": "text/x-python",
   "name": "python",
   "nbconvert_exporter": "python",
   "pygments_lexer": "ipython2",
   "version": "2.7.6"
  }
 },
 "nbformat": 4,
 "nbformat_minor": 0
}
